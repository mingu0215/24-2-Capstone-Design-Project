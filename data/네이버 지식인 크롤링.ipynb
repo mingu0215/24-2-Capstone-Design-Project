{
 "cells": [
  {
   "cell_type": "code",
   "execution_count": 16,
   "id": "d12854b5",
   "metadata": {},
   "outputs": [],
   "source": [
    "# 필요한 라이브러리 임포트\n",
    "from selenium import webdriver\n",
    "from selenium.webdriver.common.keys import Keys\n",
    "from selenium.webdriver.support.ui import WebDriverWait\n",
    "from selenium.webdriver.support import expected_conditions as EC\n",
    "from selenium.common.exceptions import TimeoutException\n",
    "from selenium.common.exceptions import NoSuchElementException\n",
    "from selenium.webdriver.common.by import By\n",
    "from selenium.webdriver.support.ui import Select\n",
    "import time\n",
    "import numpy as np\n",
    "import requests\n",
    "from bs4 import BeautifulSoup"
   ]
  },
  {
   "cell_type": "code",
   "execution_count": 18,
   "id": "6fbed096",
   "metadata": {},
   "outputs": [
    {
     "name": "stdout",
     "output_type": "stream",
     "text": [
      "ChromeDriver 129.0.6614.0 (d6ad6270cf0eb2ff492cf274ce38e6e62369626c-refs/branch-heads/6614@{#1})\n"
     ]
    }
   ],
   "source": [
    "#크롬드라이버 버전 확인\n",
    "!chromedriver --version"
   ]
  },
  {
   "cell_type": "code",
   "execution_count": 17,
   "id": "8a97e893",
   "metadata": {},
   "outputs": [],
   "source": [
    "from selenium import webdriver\n",
    "from selenium.webdriver.chrome.service import Service\n",
    "\n",
    "# ChromeDriver 경로 설정\n",
    "chrome_service = Service(\"chromedriver.exe\")  # 다운로드한 ChromeDriver 경로\n",
    "\n",
    "# Chrome 웹 드라이버 실행\n",
    "browser = webdriver.Chrome(service=chrome_service)\n",
    "\n",
    "# 암묵적 대기 설정\n",
    "browser.implicitly_wait(10)\n",
    "\n",
    "# 웹 페이지 열기\n",
    "browser.get('https://kin.naver.com/people/expert/index.naver?type=DOCTOR&edirId=11&orgId=0&sort=name')\n"
   ]
  },
  {
   "cell_type": "markdown",
   "id": "deda873b",
   "metadata": {},
   "source": [
    "## 수집방법\n",
    "\n",
    "1. 각 의사마다 url을 get 해서 리스트에 저장\n",
    "2. url에 들어가서 전체 답변 페이지에 접속\n",
    "3. 답변의 제목, 날짜, 내용, 답변 크롤링 -> 뒤로가기 -> 다음 답변 크롤링\n",
    "4. 페이지 이동\n",
    "5. 의사 별로 2-4번 반복"
   ]
  },
  {
   "cell_type": "markdown",
   "id": "8455cbfc",
   "metadata": {},
   "source": [
    "## 의사 별 전문가 답변 링크 추출"
   ]
  },
  {
   "cell_type": "code",
   "execution_count": 3,
   "id": "3b2dc3ad",
   "metadata": {},
   "outputs": [
    {
     "name": "stdout",
     "output_type": "stream",
     "text": [
      "220\n"
     ]
    }
   ],
   "source": [
    "#10개 페이지에서 의사 개인 링크 추출\n",
    "links=[]\n",
    "\n",
    "for i in range(10):\n",
    "    browser.get(f'https://kin.naver.com/people/expert/index.naver?orgId=0&sort=name&edirId=11&type=DOCTOR&page={i+1}')\n",
    "    \n",
    "    # 특정 href를 포함하는 <a> 태그 찾기\n",
    "    elements = browser.find_elements(By.CSS_SELECTOR, 'a[href^=\"/userinfo/expert/index.naver?u=\"]')\n",
    "    \n",
    "    # href 속성 추출\n",
    "    for element in elements:\n",
    "        href_value = element.get_attribute('href')\n",
    "        links.append(href_value)\n",
    "\n",
    "print(len(links))"
   ]
  },
  {
   "cell_type": "code",
   "execution_count": 18,
   "id": "f8f63176",
   "metadata": {},
   "outputs": [],
   "source": [
    "links=[]\n",
    "\n",
    "for i in [11,12]:\n",
    "    browser.get(f'https://kin.naver.com/people/expert/index.naver?orgId=0&sort=name&edirId=11&type=DOCTOR&page={i}')\n",
    "    \n",
    "    # 특정 href를 포함하는 <a> 태그 찾기\n",
    "    elements = browser.find_elements(By.CSS_SELECTOR, 'a[href^=\"/userinfo/expert/index.naver?u=\"]')\n",
    "    \n",
    "    # href 속성 추출\n",
    "    for element in elements:\n",
    "        href_value = element.get_attribute('href')\n",
    "        links.append(href_value)"
   ]
  },
  {
   "cell_type": "code",
   "execution_count": 4,
   "id": "a5e4990a",
   "metadata": {
    "scrolled": false
   },
   "outputs": [
    {
     "name": "stdout",
     "output_type": "stream",
     "text": [
      "['https://kin.naver.com/userinfo/expert/index.naver?u=27c0TFWFaBWEV28qvF5FAu%2FyZq92PLpBkUj9tfL4EI0%3D', 'https://kin.naver.com/userinfo/expert/index.naver?u=cfud%2BUf%2FtqvsNcVOn9GVTJ4FI%2FUKt%2BvWegYFmIEznr4%3D', 'https://kin.naver.com/userinfo/expert/index.naver?u=SvIUE03Z6u4GifVVCAvglJAhWRaLDtrESljepoVPfT0%3D', 'https://kin.naver.com/userinfo/expert/index.naver?u=%2B28rxr4a6v53CC9WL3IcaOr28A8DZLBlTKevxS2yHkA%3D', 'https://kin.naver.com/userinfo/expert/index.naver?u=QbPYSQHbEVHsy13frYO7Wkq9LJla1qotlZkVSwYDsqk%3D']\n"
     ]
    }
   ],
   "source": [
    "# 중복을 제거한 값만을 담을 리스트\n",
    "doctor_links= []\n",
    "\n",
    "# 중복 제거 처리 (순서 유지)\n",
    "for item in links:\n",
    "    if item not in doctor_links:\n",
    "        doctor_links.append(item)\n",
    "\n",
    "# 결과 출력\n",
    "print(doctor_links[:5])"
   ]
  },
  {
   "cell_type": "markdown",
   "id": "ce0b928c",
   "metadata": {},
   "source": [
    "## 각 의사 페이지마다 답변 크롤링"
   ]
  },
  {
   "cell_type": "code",
   "execution_count": 20,
   "id": "e0b0d88d",
   "metadata": {},
   "outputs": [],
   "source": [
    "# 한 페이지당 20개의 포스트 탐색 -> 엔터키 추가!\n",
    "from selenium.webdriver.common.keys import Keys\n",
    "\n",
    "#20개 포스트 크롤링하는 함수 생성\n",
    "def page_scrapper():\n",
    "    for j in range(1, 21): \n",
    "        try:\n",
    "            post = browser.find_element(By.CSS_SELECTOR, '#au_board_list > tr:nth-child(' + str(j) + ') > td.title > a')\n",
    "            post.click()\n",
    "\n",
    "            # 경고창이 있는지 확인\n",
    "            try:\n",
    "                alert = Alert(browser)\n",
    "                alert.accept()\n",
    "                continue  # 다음 포스트로 이동\n",
    "\n",
    "            except NoAlertPresentException:\n",
    "                # 경고창이 없는 경우 크롤링 수행\n",
    "                title = browser.find_element(By.CSS_SELECTOR, '#content > div.endContentLeft._endContentLeft > div.contentArea._contentWrap > div.endTitleSection').text\n",
    "                date = browser.find_element(By.CSS_SELECTOR, '#content > div.endContentLeft._endContentLeft > div.contentArea._contentWrap > div.userInfo.userInfo__bullet > span:nth-child(3)').text\n",
    "                question = browser.find_element(By.CSS_SELECTOR, '#content > div.endContentLeft._endContentLeft > div.contentArea._contentWrap > div.questionDetail').text\n",
    "                answer = browser.find_element(By.CSS_SELECTOR, 'div.answerDetail._endContents._endContentsText').text\n",
    "\n",
    "                # 결과 리스트에 저장\n",
    "                pages.append([title, date, question, answer])\n",
    "                \n",
    "                browser.back()\n",
    "\n",
    "        except NoSuchElementException:\n",
    "            continue\n",
    "\n",
    "        finally:\n",
    "            # 알림 창이 없는 경우에도 뒤로 가기\n",
    "            #browser.back()\n",
    "            time.sleep(1)  # 페이지 로딩 시간 대기"
   ]
  },
  {
   "cell_type": "code",
   "execution_count": 29,
   "id": "6ce69379",
   "metadata": {},
   "outputs": [
    {
     "name": "stdout",
     "output_type": "stream",
     "text": [
      "open:  https://kin.naver.com/userinfo/expert/index.naver?u=NhKqTckrGsUpPQX5COuuNYAl4IcoSSmJPPgWi0uB7Xk%3D\n",
      "open:  https://kin.naver.com/userinfo/expert/index.naver?u=tYuqffLqOiT3XXFR7EcoqF5jEJqX8VYYEvjH6cUYo1U%3D\n",
      "open:  https://kin.naver.com/userinfo/expert/index.naver?u=m6V%2BptYKBpGQrHfBYvzaxAACCmWzKqpDhHsUBMZ3Opw%3D\n",
      "open:  https://kin.naver.com/userinfo/expert/index.naver?u=Xoz0Wxfur%2F7hpL0qDWHUkTKvyz9Gzz7FiICyDncYQIo%3D\n",
      "open:  https://kin.naver.com/userinfo/expert/index.naver?u=muRAqD6M6AZv1lFnK9HSVYdF93jaiT2ua%2FfGkO9evRU%3D\n",
      "open:  https://kin.naver.com/userinfo/expert/index.naver?u=lyPNo0UVHZA1hBIQIH2yE7pfo7OqRA%2BjFoAsPDgCaxY%3D\n",
      "open:  https://kin.naver.com/userinfo/expert/index.naver?u=vj9sWMlCerG%2BDT8H2SCiy2JKBBPAH95tW62%2F1Hxe6dM%3D\n"
     ]
    }
   ],
   "source": [
    "from selenium import webdriver\n",
    "from selenium.webdriver.chrome.service import Service\n",
    "from selenium.webdriver.common.by import By\n",
    "from selenium.webdriver.common.alert import Alert\n",
    "from selenium.common.exceptions import NoAlertPresentException, NoSuchElementException\n",
    "import time\n",
    "\n",
    "chrome_service = Service(\"chromedriver.exe\")\n",
    "browser = webdriver.Chrome(service=chrome_service)\n",
    "browser.implicitly_wait(10)\n",
    "\n",
    "# 내용 담을 리스트\n",
    "pages = []\n",
    "\n",
    "for link in doctor_links:      \n",
    "    \n",
    "    browser.maximize_window()\n",
    "    print('open: ',link)\n",
    "    browser.get(link)\n",
    "    time.sleep(1)\n",
    "    \n",
    "    more = browser.find_element(By.CSS_SELECTOR, '#content > h4 > span.more > a')\n",
    "    more.click()\n",
    "    \n",
    "\n",
    "    for i in range(1, 11):\n",
    "        try:\n",
    "            page_selector = f'#content > div.paginate._default_pager > a:nth-child({i})'\n",
    "            page = browser.find_element(By.CSS_SELECTOR, page_selector)\n",
    "            page.click()\n",
    "            time.sleep(1)\n",
    "            page_scrapper()\n",
    "        except NoSuchElementException:\n",
    "            break  # 페이지 번호 버튼을 찾을 수 없을 때 종료\n",
    "\n",
    "    #다음페이지 11~ 크롤링\n",
    "    while True:\n",
    "        try:\n",
    "            # 다음 페이지 세트로 넘어가기 위해 '다음' 버튼 클릭\n",
    "            next_button = browser.find_element(By.CSS_SELECTOR, '#content > div.paginate._default_pager > a.next')\n",
    "            next_button.click()\n",
    "\n",
    "            for i in range(2, 12):\n",
    "                try:\n",
    "                    # 페이지 번호 버튼 선택\n",
    "                    page_selector = f'#content > div.paginate._default_pager > a:nth-child({i})'\n",
    "                    page = browser.find_element(By.CSS_SELECTOR, page_selector)\n",
    "                    page.click()\n",
    "                    time.sleep(1)\n",
    "                    page_scrapper()\n",
    "                except NoSuchElementException:\n",
    "                    break  # 페이지 번호 버튼을 찾을 수 없을 때 종료\n",
    "        except:\n",
    "            for i in range(2, 12):\n",
    "                try:\n",
    "                    # 페이지 번호 버튼 선택\n",
    "                    page_selector = f'#content > div.paginate._default_pager > a:nth-child({i})'\n",
    "                    page = browser.find_element(By.CSS_SELECTOR, page_selector)\n",
    "                    page.click()\n",
    "                    time.sleep(1)\n",
    "                    page_scrapper()\n",
    "                except NoSuchElementException:\n",
    "                    break  # 페이지 번호 버튼을 찾을 수 없을 때 종료\n",
    "            break\n",
    "        #finally:\n",
    "         #   print('done: ',link)\n",
    "          #  break\n",
    "        "
   ]
  },
  {
   "cell_type": "code",
   "execution_count": 25,
   "id": "c2aaef60",
   "metadata": {
    "scrolled": true
   },
   "outputs": [
    {
     "data": {
      "text/html": [
       "<div>\n",
       "<style scoped>\n",
       "    .dataframe tbody tr th:only-of-type {\n",
       "        vertical-align: middle;\n",
       "    }\n",
       "\n",
       "    .dataframe tbody tr th {\n",
       "        vertical-align: top;\n",
       "    }\n",
       "\n",
       "    .dataframe thead th {\n",
       "        text-align: right;\n",
       "    }\n",
       "</style>\n",
       "<table border=\"1\" class=\"dataframe\">\n",
       "  <thead>\n",
       "    <tr style=\"text-align: right;\">\n",
       "      <th></th>\n",
       "      <th>title</th>\n",
       "      <th>date</th>\n",
       "      <th>question</th>\n",
       "      <th>answer</th>\n",
       "    </tr>\n",
       "  </thead>\n",
       "  <tbody>\n",
       "    <tr>\n",
       "      <th>0</th>\n",
       "      <td>질문\\n모든게 다 빨라지는 느낌 머릿속 생각이나 행동을 빨리감기한 느낌</td>\n",
       "      <td>작성일\\n2022.04.19</td>\n",
       "      <td>어렸을 때부터 간혹 이런 적이 있는데요.\\n그냥 모든게 다 빨라져요. 지금 타이핑하...</td>\n",
       "      <td>안녕하세요. 하이닥-네이버 지식iN 상담의 권순모 입니다.\\n덧글은 확인 및 답변이...</td>\n",
       "    </tr>\n",
       "    <tr>\n",
       "      <th>1</th>\n",
       "      <td>질문\\n정신과 약</td>\n",
       "      <td>작성일\\n2022.04.20</td>\n",
       "      <td>항울제랑 항불안제 처방 받았는데 무슨 약일까요,</td>\n",
       "      <td>안녕하세요. 하이닥-네이버 지식iN 상담의 권순모 입니다.\\n덧글은 확인 및 답변이...</td>\n",
       "    </tr>\n",
       "    <tr>\n",
       "      <th>2</th>\n",
       "      <td>질문\\n뇌파검사 질문</td>\n",
       "      <td>작성일\\n2020.12.21</td>\n",
       "      <td>항우울증 약 먹고있는데 뇌파검사 전에 약 안먹고 가야하나요? 아님 약 먹고 가도 되나요?</td>\n",
       "      <td>안녕하세요. 하이닥-네이버 지식iN 상담의 권순모 입니다.\\n덧글은 확인 및 답변이...</td>\n",
       "    </tr>\n",
       "    <tr>\n",
       "      <th>3</th>\n",
       "      <td>질문\\n신경안정제</td>\n",
       "      <td>작성일\\n2020.12.09</td>\n",
       "      <td>화가 나면 감정조절이 잘안되고 불안장애가 심해서 무슨일이 생길것같고 벌벌 떨리고 그...</td>\n",
       "      <td>안녕하세요. 하이닥-네이버 지식iN 상담의 권순모 입니다.\\n덧글은 확인 및 답변이...</td>\n",
       "    </tr>\n",
       "    <tr>\n",
       "      <th>4</th>\n",
       "      <td>질문\\n스트레스 받으면</td>\n",
       "      <td>작성일\\n2020.12.12</td>\n",
       "      <td>제가 요새 스트레스 받을 일이 좀 많았었는데요\\n공부에도 집중을 못하겠고 억지로 집...</td>\n",
       "      <td>안녕하세요. 하이닥-네이버 지식iN 상담의 권순모 입니다.\\n덧글은 확인 및 답변이...</td>\n",
       "    </tr>\n",
       "    <tr>\n",
       "      <th>...</th>\n",
       "      <td>...</td>\n",
       "      <td>...</td>\n",
       "      <td>...</td>\n",
       "      <td>...</td>\n",
       "    </tr>\n",
       "    <tr>\n",
       "      <th>2112</th>\n",
       "      <td>질문\\n이건 무슨 강박증이나 병인가요?? 내공 100 제발요 ㅠㅠ</td>\n",
       "      <td>작성일\\n2019.07.14</td>\n",
       "      <td>막 시계추 같은거 왔다 갔다 하는거랑 사소하게 바람불면 시소같은거 앞 뒤로 흔들리잖...</td>\n",
       "      <td>안녕하세요. 하이닥-네이버 지식iN 상담의 권순모 입니다.\\n영상 답변 드리겠습니다...</td>\n",
       "    </tr>\n",
       "    <tr>\n",
       "      <th>2113</th>\n",
       "      <td>질문\\n안녕하세요 저는 20대 남성입니다...</td>\n",
       "      <td>작성일\\n2019.07.14</td>\n",
       "      <td>안녕하세요 저는 20대 남성입니다\\n10대후반부터 머리가 멍하고 정신이 없는 증상이...</td>\n",
       "      <td>안녕하세요. 하이닥-네이버 지식iN 상담의 권순모 입니다.\\n영상 답변 드리겠습니다...</td>\n",
       "    </tr>\n",
       "    <tr>\n",
       "      <th>2114</th>\n",
       "      <td>질문\\n외상후 스트레스 심리치료방법</td>\n",
       "      <td>작성일\\n2019.07.14</td>\n",
       "      <td>최근 일어난 극심한 충격과 공포심이 들 사건이 생기면서부터\\n타인을 향해\\n또는 나...</td>\n",
       "      <td>안녕하세요. 하이닥-네이버 지식iN 상담의 권순모 입니다.\\n영상 답변 드리겠습니다...</td>\n",
       "    </tr>\n",
       "    <tr>\n",
       "      <th>2115</th>\n",
       "      <td>질문\\n제가 대인기피증과 우울증을 1년 동안...</td>\n",
       "      <td>작성일\\n2019.07.15</td>\n",
       "      <td>제가 대인기피증과 우울증을 1년 동안 앓고 있어서 많이 스트레스를 받는 바람에 신경...</td>\n",
       "      <td>안녕하세요. 하이닥-네이버 지식iN 상담의 권순모 입니다.\\n영상 답변 드리겠습니다...</td>\n",
       "    </tr>\n",
       "    <tr>\n",
       "      <th>2116</th>\n",
       "      <td>질문\\n불안장애인가요?</td>\n",
       "      <td>작성일\\n2019.07.15</td>\n",
       "      <td>대학 입시때문에 스트레스를 받고 있는 고3학생입니다.\\n공부하다가, 잘려고 누워있다...</td>\n",
       "      <td>안녕하세요. 하이닥-네이버 지식iN 상담의 권순모 입니다.\\n영상 답변 드리겠습니다...</td>\n",
       "    </tr>\n",
       "  </tbody>\n",
       "</table>\n",
       "<p>2117 rows × 4 columns</p>\n",
       "</div>"
      ],
      "text/plain": [
       "                                        title             date  \\\n",
       "0     질문\\n모든게 다 빨라지는 느낌 머릿속 생각이나 행동을 빨리감기한 느낌  작성일\\n2022.04.19   \n",
       "1                                   질문\\n정신과 약  작성일\\n2022.04.20   \n",
       "2                                 질문\\n뇌파검사 질문  작성일\\n2020.12.21   \n",
       "3                                   질문\\n신경안정제  작성일\\n2020.12.09   \n",
       "4                                질문\\n스트레스 받으면  작성일\\n2020.12.12   \n",
       "...                                       ...              ...   \n",
       "2112     질문\\n이건 무슨 강박증이나 병인가요?? 내공 100 제발요 ㅠㅠ  작성일\\n2019.07.14   \n",
       "2113                질문\\n안녕하세요 저는 20대 남성입니다...  작성일\\n2019.07.14   \n",
       "2114                      질문\\n외상후 스트레스 심리치료방법  작성일\\n2019.07.14   \n",
       "2115              질문\\n제가 대인기피증과 우울증을 1년 동안...  작성일\\n2019.07.15   \n",
       "2116                             질문\\n불안장애인가요?  작성일\\n2019.07.15   \n",
       "\n",
       "                                               question  \\\n",
       "0     어렸을 때부터 간혹 이런 적이 있는데요.\\n그냥 모든게 다 빨라져요. 지금 타이핑하...   \n",
       "1                            항울제랑 항불안제 처방 받았는데 무슨 약일까요,   \n",
       "2     항우울증 약 먹고있는데 뇌파검사 전에 약 안먹고 가야하나요? 아님 약 먹고 가도 되나요?   \n",
       "3     화가 나면 감정조절이 잘안되고 불안장애가 심해서 무슨일이 생길것같고 벌벌 떨리고 그...   \n",
       "4     제가 요새 스트레스 받을 일이 좀 많았었는데요\\n공부에도 집중을 못하겠고 억지로 집...   \n",
       "...                                                 ...   \n",
       "2112  막 시계추 같은거 왔다 갔다 하는거랑 사소하게 바람불면 시소같은거 앞 뒤로 흔들리잖...   \n",
       "2113  안녕하세요 저는 20대 남성입니다\\n10대후반부터 머리가 멍하고 정신이 없는 증상이...   \n",
       "2114  최근 일어난 극심한 충격과 공포심이 들 사건이 생기면서부터\\n타인을 향해\\n또는 나...   \n",
       "2115  제가 대인기피증과 우울증을 1년 동안 앓고 있어서 많이 스트레스를 받는 바람에 신경...   \n",
       "2116  대학 입시때문에 스트레스를 받고 있는 고3학생입니다.\\n공부하다가, 잘려고 누워있다...   \n",
       "\n",
       "                                                 answer  \n",
       "0     안녕하세요. 하이닥-네이버 지식iN 상담의 권순모 입니다.\\n덧글은 확인 및 답변이...  \n",
       "1     안녕하세요. 하이닥-네이버 지식iN 상담의 권순모 입니다.\\n덧글은 확인 및 답변이...  \n",
       "2     안녕하세요. 하이닥-네이버 지식iN 상담의 권순모 입니다.\\n덧글은 확인 및 답변이...  \n",
       "3     안녕하세요. 하이닥-네이버 지식iN 상담의 권순모 입니다.\\n덧글은 확인 및 답변이...  \n",
       "4     안녕하세요. 하이닥-네이버 지식iN 상담의 권순모 입니다.\\n덧글은 확인 및 답변이...  \n",
       "...                                                 ...  \n",
       "2112  안녕하세요. 하이닥-네이버 지식iN 상담의 권순모 입니다.\\n영상 답변 드리겠습니다...  \n",
       "2113  안녕하세요. 하이닥-네이버 지식iN 상담의 권순모 입니다.\\n영상 답변 드리겠습니다...  \n",
       "2114  안녕하세요. 하이닥-네이버 지식iN 상담의 권순모 입니다.\\n영상 답변 드리겠습니다...  \n",
       "2115  안녕하세요. 하이닥-네이버 지식iN 상담의 권순모 입니다.\\n영상 답변 드리겠습니다...  \n",
       "2116  안녕하세요. 하이닥-네이버 지식iN 상담의 권순모 입니다.\\n영상 답변 드리겠습니다...  \n",
       "\n",
       "[2117 rows x 4 columns]"
      ]
     },
     "execution_count": 25,
     "metadata": {},
     "output_type": "execute_result"
    }
   ],
   "source": [
    "import pandas as pd\n",
    "\n",
    "p=pd.DataFrame(pages, columns=['title','date','question','answer'])\n",
    "p"
   ]
  },
  {
   "cell_type": "code",
   "execution_count": 26,
   "id": "ab6065c3",
   "metadata": {},
   "outputs": [],
   "source": [
    "p.to_csv('doctor_links_again1.csv')"
   ]
  },
  {
   "cell_type": "code",
   "execution_count": null,
   "id": "8f5f4926",
   "metadata": {},
   "outputs": [],
   "source": []
  }
 ],
 "metadata": {
  "kernelspec": {
   "display_name": "Python 3 (ipykernel)",
   "language": "python",
   "name": "python3"
  },
  "language_info": {
   "codemirror_mode": {
    "name": "ipython",
    "version": 3
   },
   "file_extension": ".py",
   "mimetype": "text/x-python",
   "name": "python",
   "nbconvert_exporter": "python",
   "pygments_lexer": "ipython3",
   "version": "3.10.9"
  }
 },
 "nbformat": 4,
 "nbformat_minor": 5
}
